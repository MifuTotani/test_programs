{
 "cells": [
  {
   "cell_type": "code",
   "execution_count": 2,
   "metadata": {},
   "outputs": [
    {
     "name": "stdout",
     "output_type": "stream",
     "text": [
      "hello\n"
     ]
    }
   ],
   "source": [
    "print(\"hello\")"
   ]
  },
  {
   "cell_type": "code",
   "execution_count": 3,
   "metadata": {},
   "outputs": [],
   "source": [
    "from selenium import webdriver\n",
    "from selenium.webdriver.support.ui import Select\n",
    "import chromedriver_binary\n",
    "from bs4 import BeautifulSoup\n",
    "import time\n",
    "from selenium.webdriver.common.by import By\n",
    "SLEEP = 0.5"
   ]
  },
  {
   "cell_type": "code",
   "execution_count": 4,
   "metadata": {},
   "outputs": [],
   "source": [
    "search_string = \"消しゴム\""
   ]
  },
  {
   "cell_type": "code",
   "execution_count": 5,
   "metadata": {},
   "outputs": [],
   "source": [
    "driver = webdriver.Chrome()\n",
    "driver.get(\"https://www.monotaro.com/\")\n",
    "# driver.get(\"https://www.google.com/\")\n",
    "time.sleep(SLEEP) # 読み込み時間を考慮"
   ]
  },
  {
   "cell_type": "code",
   "execution_count": 6,
   "metadata": {},
   "outputs": [],
   "source": [
    "# # ブラウザの操作\n",
    "element_form = driver.find_element(By.NAME, 'q')\n",
    "element_form.send_keys(search_string)\n",
    "driver.find_element(By.NAME,'q').submit()\n",
    "time.sleep(SLEEP)"
   ]
  },
  {
   "cell_type": "code",
   "execution_count": 17,
   "metadata": {},
   "outputs": [
    {
     "name": "stdout",
     "output_type": "stream",
     "text": [
      "start\n"
     ]
    }
   ],
   "source": [
    "#検索結果の一覧を取得する\n",
    "results = []\n",
    "flag = False\n",
    "# CLASS=\"SearchResultImageContainerColmn SearchResultImageContainerColmn--Border u-Display--InlineFlex u-FlexOrder--0 data-ee-imp\"\n",
    "CLASS=\"SearchResultImageContainerColmn\"\n",
    "products = driver.find_elements(By.CLASS_NAME, CLASS)\n",
    "cnt = 0\n",
    "MAX_CNT = 2\n",
    "print(\"start\")"
   ]
  },
  {
   "cell_type": "code",
   "execution_count": 18,
   "metadata": {},
   "outputs": [
    {
     "name": "stdout",
     "output_type": "stream",
     "text": [
      "[<selenium.webdriver.remote.webelement.WebElement (session=\"3c4862157d6f601540ae68dbc4ccd43b\", element=\"E55DF13C6A80DE93A8F5D562D74DEA41_element_84\")>, <selenium.webdriver.remote.webelement.WebElement (session=\"3c4862157d6f601540ae68dbc4ccd43b\", element=\"E55DF13C6A80DE93A8F5D562D74DEA41_element_85\")>, <selenium.webdriver.remote.webelement.WebElement (session=\"3c4862157d6f601540ae68dbc4ccd43b\", element=\"E55DF13C6A80DE93A8F5D562D74DEA41_element_86\")>, <selenium.webdriver.remote.webelement.WebElement (session=\"3c4862157d6f601540ae68dbc4ccd43b\", element=\"E55DF13C6A80DE93A8F5D562D74DEA41_element_87\")>, <selenium.webdriver.remote.webelement.WebElement (session=\"3c4862157d6f601540ae68dbc4ccd43b\", element=\"E55DF13C6A80DE93A8F5D562D74DEA41_element_88\")>, <selenium.webdriver.remote.webelement.WebElement (session=\"3c4862157d6f601540ae68dbc4ccd43b\", element=\"E55DF13C6A80DE93A8F5D562D74DEA41_element_89\")>, <selenium.webdriver.remote.webelement.WebElement (session=\"3c4862157d6f601540ae68dbc4ccd43b\", element=\"E55DF13C6A80DE93A8F5D562D74DEA41_element_90\")>, <selenium.webdriver.remote.webelement.WebElement (session=\"3c4862157d6f601540ae68dbc4ccd43b\", element=\"E55DF13C6A80DE93A8F5D562D74DEA41_element_91\")>, <selenium.webdriver.remote.webelement.WebElement (session=\"3c4862157d6f601540ae68dbc4ccd43b\", element=\"E55DF13C6A80DE93A8F5D562D74DEA41_element_92\")>, <selenium.webdriver.remote.webelement.WebElement (session=\"3c4862157d6f601540ae68dbc4ccd43b\", element=\"E55DF13C6A80DE93A8F5D562D74DEA41_element_93\")>, <selenium.webdriver.remote.webelement.WebElement (session=\"3c4862157d6f601540ae68dbc4ccd43b\", element=\"E55DF13C6A80DE93A8F5D562D74DEA41_element_94\")>, <selenium.webdriver.remote.webelement.WebElement (session=\"3c4862157d6f601540ae68dbc4ccd43b\", element=\"E55DF13C6A80DE93A8F5D562D74DEA41_element_95\")>, <selenium.webdriver.remote.webelement.WebElement (session=\"3c4862157d6f601540ae68dbc4ccd43b\", element=\"E55DF13C6A80DE93A8F5D562D74DEA41_element_96\")>, <selenium.webdriver.remote.webelement.WebElement (session=\"3c4862157d6f601540ae68dbc4ccd43b\", element=\"E55DF13C6A80DE93A8F5D562D74DEA41_element_97\")>, <selenium.webdriver.remote.webelement.WebElement (session=\"3c4862157d6f601540ae68dbc4ccd43b\", element=\"E55DF13C6A80DE93A8F5D562D74DEA41_element_98\")>, <selenium.webdriver.remote.webelement.WebElement (session=\"3c4862157d6f601540ae68dbc4ccd43b\", element=\"E55DF13C6A80DE93A8F5D562D74DEA41_element_99\")>, <selenium.webdriver.remote.webelement.WebElement (session=\"3c4862157d6f601540ae68dbc4ccd43b\", element=\"E55DF13C6A80DE93A8F5D562D74DEA41_element_100\")>, <selenium.webdriver.remote.webelement.WebElement (session=\"3c4862157d6f601540ae68dbc4ccd43b\", element=\"E55DF13C6A80DE93A8F5D562D74DEA41_element_101\")>, <selenium.webdriver.remote.webelement.WebElement (session=\"3c4862157d6f601540ae68dbc4ccd43b\", element=\"E55DF13C6A80DE93A8F5D562D74DEA41_element_102\")>, <selenium.webdriver.remote.webelement.WebElement (session=\"3c4862157d6f601540ae68dbc4ccd43b\", element=\"E55DF13C6A80DE93A8F5D562D74DEA41_element_103\")>, <selenium.webdriver.remote.webelement.WebElement (session=\"3c4862157d6f601540ae68dbc4ccd43b\", element=\"E55DF13C6A80DE93A8F5D562D74DEA41_element_104\")>, <selenium.webdriver.remote.webelement.WebElement (session=\"3c4862157d6f601540ae68dbc4ccd43b\", element=\"E55DF13C6A80DE93A8F5D562D74DEA41_element_105\")>, <selenium.webdriver.remote.webelement.WebElement (session=\"3c4862157d6f601540ae68dbc4ccd43b\", element=\"E55DF13C6A80DE93A8F5D562D74DEA41_element_106\")>, <selenium.webdriver.remote.webelement.WebElement (session=\"3c4862157d6f601540ae68dbc4ccd43b\", element=\"E55DF13C6A80DE93A8F5D562D74DEA41_element_107\")>, <selenium.webdriver.remote.webelement.WebElement (session=\"3c4862157d6f601540ae68dbc4ccd43b\", element=\"E55DF13C6A80DE93A8F5D562D74DEA41_element_108\")>, <selenium.webdriver.remote.webelement.WebElement (session=\"3c4862157d6f601540ae68dbc4ccd43b\", element=\"E55DF13C6A80DE93A8F5D562D74DEA41_element_109\")>, <selenium.webdriver.remote.webelement.WebElement (session=\"3c4862157d6f601540ae68dbc4ccd43b\", element=\"E55DF13C6A80DE93A8F5D562D74DEA41_element_110\")>, <selenium.webdriver.remote.webelement.WebElement (session=\"3c4862157d6f601540ae68dbc4ccd43b\", element=\"E55DF13C6A80DE93A8F5D562D74DEA41_element_111\")>, <selenium.webdriver.remote.webelement.WebElement (session=\"3c4862157d6f601540ae68dbc4ccd43b\", element=\"E55DF13C6A80DE93A8F5D562D74DEA41_element_112\")>, <selenium.webdriver.remote.webelement.WebElement (session=\"3c4862157d6f601540ae68dbc4ccd43b\", element=\"E55DF13C6A80DE93A8F5D562D74DEA41_element_113\")>, <selenium.webdriver.remote.webelement.WebElement (session=\"3c4862157d6f601540ae68dbc4ccd43b\", element=\"E55DF13C6A80DE93A8F5D562D74DEA41_element_114\")>, <selenium.webdriver.remote.webelement.WebElement (session=\"3c4862157d6f601540ae68dbc4ccd43b\", element=\"E55DF13C6A80DE93A8F5D562D74DEA41_element_115\")>, <selenium.webdriver.remote.webelement.WebElement (session=\"3c4862157d6f601540ae68dbc4ccd43b\", element=\"E55DF13C6A80DE93A8F5D562D74DEA41_element_116\")>, <selenium.webdriver.remote.webelement.WebElement (session=\"3c4862157d6f601540ae68dbc4ccd43b\", element=\"E55DF13C6A80DE93A8F5D562D74DEA41_element_117\")>, <selenium.webdriver.remote.webelement.WebElement (session=\"3c4862157d6f601540ae68dbc4ccd43b\", element=\"E55DF13C6A80DE93A8F5D562D74DEA41_element_118\")>, <selenium.webdriver.remote.webelement.WebElement (session=\"3c4862157d6f601540ae68dbc4ccd43b\", element=\"E55DF13C6A80DE93A8F5D562D74DEA41_element_119\")>, <selenium.webdriver.remote.webelement.WebElement (session=\"3c4862157d6f601540ae68dbc4ccd43b\", element=\"E55DF13C6A80DE93A8F5D562D74DEA41_element_120\")>, <selenium.webdriver.remote.webelement.WebElement (session=\"3c4862157d6f601540ae68dbc4ccd43b\", element=\"E55DF13C6A80DE93A8F5D562D74DEA41_element_121\")>, <selenium.webdriver.remote.webelement.WebElement (session=\"3c4862157d6f601540ae68dbc4ccd43b\", element=\"E55DF13C6A80DE93A8F5D562D74DEA41_element_122\")>, <selenium.webdriver.remote.webelement.WebElement (session=\"3c4862157d6f601540ae68dbc4ccd43b\", element=\"E55DF13C6A80DE93A8F5D562D74DEA41_element_123\")>]\n"
     ]
    }
   ],
   "source": [
    "type(products)\n",
    "print(products)"
   ]
  },
  {
   "cell_type": "code",
   "execution_count": 48,
   "metadata": {},
   "outputs": [
    {
     "name": "stdout",
     "output_type": "stream",
     "text": [
      "start\n",
      "<selenium.webdriver.remote.webelement.WebElement (session=\"3c4862157d6f601540ae68dbc4ccd43b\", element=\"E55DF13C6A80DE93A8F5D562D74DEA41_element_84\")>\n",
      "{'link': 'https://www.monotaro.com/g/00262752/', 'brand': 'トンボ鉛筆', 'productName': 'モノ消しゴム 5個パック', 'yen': '￥219', 'yen2': '税込￥241', 'sendFee': 'send_fee'}\n",
      "end\n"
     ]
    }
   ],
   "source": [
    "print(\"start\")\n",
    "for product in products:\n",
    "    print(product)    \n",
    "    # print(product.find_element(By.XPATH, 'a'))\n",
    "\n",
    "    elements = product.text.splitlines()\n",
    "\n",
    "    textLink = product.find_element(By.CLASS_NAME, 'TextLink')\n",
    "    result = {}\n",
    "    result['link'] = textLink.get_attribute('href')\n",
    "    result['brand'] = product.find_element(By.CLASS_NAME, 'BrandText').text\n",
    "    result['productName'] = textLink.text\n",
    "    # result['title'] = product.find_element(By.)\n",
    "    # result[\"yen\"] = elements[3]\n",
    "    result[\"yen\"] = product.find_elements(By.CLASS_NAME, 'Price')[0].text\n",
    "    result[\"yen2\"] = product.find_elements(By.CLASS_NAME, 'Price')[1].text\n",
    "    result[\"sendFee\"] = \"send_fee\"\n",
    "    \n",
    "    print(result)\n",
    "    cnt = cnt + 1\n",
    "    if cnt >= MAX_CNT: break\n",
    "\n",
    "print(\"end\")"
   ]
  }
 ],
 "metadata": {
  "kernelspec": {
   "display_name": "Python 3",
   "language": "python",
   "name": "python3"
  },
  "language_info": {
   "codemirror_mode": {
    "name": "ipython",
    "version": 3
   },
   "file_extension": ".py",
   "mimetype": "text/x-python",
   "name": "python",
   "nbconvert_exporter": "python",
   "pygments_lexer": "ipython3",
   "version": "3.7.9"
  }
 },
 "nbformat": 4,
 "nbformat_minor": 2
}
